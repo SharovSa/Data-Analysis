{
 "cells": [
  {
   "cell_type": "code",
   "execution_count": 33,
   "metadata": {},
   "outputs": [],
   "source": [
    "import pandas as pd\n",
    "import numpy as np\n",
    "import scipy.stats as scp\n",
    "import matplotlib.pyplot as plt\n",
    "\n",
    "%matplotlib inline"
   ]
  },
  {
   "cell_type": "code",
   "execution_count": 2,
   "metadata": {},
   "outputs": [
    {
     "data": {
      "text/html": [
       "<div>\n",
       "<style scoped>\n",
       "    .dataframe tbody tr th:only-of-type {\n",
       "        vertical-align: middle;\n",
       "    }\n",
       "\n",
       "    .dataframe tbody tr th {\n",
       "        vertical-align: top;\n",
       "    }\n",
       "\n",
       "    .dataframe thead th {\n",
       "        text-align: right;\n",
       "    }\n",
       "</style>\n",
       "<table border=\"1\" class=\"dataframe\">\n",
       "  <thead>\n",
       "    <tr style=\"text-align: right;\">\n",
       "      <th></th>\n",
       "      <th>ahe</th>\n",
       "      <th>female</th>\n",
       "      <th>ne</th>\n",
       "      <th>midwest</th>\n",
       "      <th>south</th>\n",
       "      <th>west</th>\n",
       "      <th>race</th>\n",
       "      <th>yrseduc</th>\n",
       "      <th>ba</th>\n",
       "      <th>hsdipl</th>\n",
       "      <th>age</th>\n",
       "    </tr>\n",
       "  </thead>\n",
       "  <tbody>\n",
       "    <tr>\n",
       "      <th>0</th>\n",
       "      <td>10.754048</td>\n",
       "      <td>1</td>\n",
       "      <td>1</td>\n",
       "      <td>0</td>\n",
       "      <td>0</td>\n",
       "      <td>0</td>\n",
       "      <td>1</td>\n",
       "      <td>18</td>\n",
       "      <td>1</td>\n",
       "      <td>1</td>\n",
       "      <td>49</td>\n",
       "    </tr>\n",
       "    <tr>\n",
       "      <th>1</th>\n",
       "      <td>10.341881</td>\n",
       "      <td>0</td>\n",
       "      <td>1</td>\n",
       "      <td>0</td>\n",
       "      <td>0</td>\n",
       "      <td>0</td>\n",
       "      <td>1</td>\n",
       "      <td>16</td>\n",
       "      <td>1</td>\n",
       "      <td>1</td>\n",
       "      <td>28</td>\n",
       "    </tr>\n",
       "    <tr>\n",
       "      <th>2</th>\n",
       "      <td>18.181818</td>\n",
       "      <td>0</td>\n",
       "      <td>1</td>\n",
       "      <td>0</td>\n",
       "      <td>0</td>\n",
       "      <td>0</td>\n",
       "      <td>1</td>\n",
       "      <td>12</td>\n",
       "      <td>0</td>\n",
       "      <td>1</td>\n",
       "      <td>45</td>\n",
       "    </tr>\n",
       "    <tr>\n",
       "      <th>3</th>\n",
       "      <td>20.879122</td>\n",
       "      <td>1</td>\n",
       "      <td>1</td>\n",
       "      <td>0</td>\n",
       "      <td>0</td>\n",
       "      <td>0</td>\n",
       "      <td>1</td>\n",
       "      <td>12</td>\n",
       "      <td>0</td>\n",
       "      <td>1</td>\n",
       "      <td>41</td>\n",
       "    </tr>\n",
       "    <tr>\n",
       "      <th>4</th>\n",
       "      <td>17.948717</td>\n",
       "      <td>0</td>\n",
       "      <td>1</td>\n",
       "      <td>0</td>\n",
       "      <td>0</td>\n",
       "      <td>0</td>\n",
       "      <td>1</td>\n",
       "      <td>18</td>\n",
       "      <td>1</td>\n",
       "      <td>1</td>\n",
       "      <td>54</td>\n",
       "    </tr>\n",
       "    <tr>\n",
       "      <th>...</th>\n",
       "      <td>...</td>\n",
       "      <td>...</td>\n",
       "      <td>...</td>\n",
       "      <td>...</td>\n",
       "      <td>...</td>\n",
       "      <td>...</td>\n",
       "      <td>...</td>\n",
       "      <td>...</td>\n",
       "      <td>...</td>\n",
       "      <td>...</td>\n",
       "      <td>...</td>\n",
       "    </tr>\n",
       "    <tr>\n",
       "      <th>37805</th>\n",
       "      <td>41.208790</td>\n",
       "      <td>0</td>\n",
       "      <td>0</td>\n",
       "      <td>0</td>\n",
       "      <td>0</td>\n",
       "      <td>1</td>\n",
       "      <td>4</td>\n",
       "      <td>19</td>\n",
       "      <td>1</td>\n",
       "      <td>1</td>\n",
       "      <td>51</td>\n",
       "    </tr>\n",
       "    <tr>\n",
       "      <th>37806</th>\n",
       "      <td>21.634615</td>\n",
       "      <td>0</td>\n",
       "      <td>0</td>\n",
       "      <td>0</td>\n",
       "      <td>0</td>\n",
       "      <td>1</td>\n",
       "      <td>4</td>\n",
       "      <td>16</td>\n",
       "      <td>1</td>\n",
       "      <td>1</td>\n",
       "      <td>44</td>\n",
       "    </tr>\n",
       "    <tr>\n",
       "      <th>37807</th>\n",
       "      <td>8.636364</td>\n",
       "      <td>1</td>\n",
       "      <td>0</td>\n",
       "      <td>0</td>\n",
       "      <td>0</td>\n",
       "      <td>1</td>\n",
       "      <td>4</td>\n",
       "      <td>14</td>\n",
       "      <td>0</td>\n",
       "      <td>1</td>\n",
       "      <td>44</td>\n",
       "    </tr>\n",
       "    <tr>\n",
       "      <th>37808</th>\n",
       "      <td>10.544871</td>\n",
       "      <td>0</td>\n",
       "      <td>0</td>\n",
       "      <td>0</td>\n",
       "      <td>0</td>\n",
       "      <td>1</td>\n",
       "      <td>4</td>\n",
       "      <td>13</td>\n",
       "      <td>0</td>\n",
       "      <td>1</td>\n",
       "      <td>33</td>\n",
       "    </tr>\n",
       "    <tr>\n",
       "      <th>37809</th>\n",
       "      <td>14.903846</td>\n",
       "      <td>1</td>\n",
       "      <td>0</td>\n",
       "      <td>0</td>\n",
       "      <td>0</td>\n",
       "      <td>1</td>\n",
       "      <td>4</td>\n",
       "      <td>14</td>\n",
       "      <td>0</td>\n",
       "      <td>1</td>\n",
       "      <td>31</td>\n",
       "    </tr>\n",
       "  </tbody>\n",
       "</table>\n",
       "<p>37810 rows × 11 columns</p>\n",
       "</div>"
      ],
      "text/plain": [
       "             ahe  female  ne  midwest  south  west  race  yrseduc  ba  hsdipl  \\\n",
       "0      10.754048       1   1        0      0     0     1       18   1       1   \n",
       "1      10.341881       0   1        0      0     0     1       16   1       1   \n",
       "2      18.181818       0   1        0      0     0     1       12   0       1   \n",
       "3      20.879122       1   1        0      0     0     1       12   0       1   \n",
       "4      17.948717       0   1        0      0     0     1       18   1       1   \n",
       "...          ...     ...  ..      ...    ...   ...   ...      ...  ..     ...   \n",
       "37805  41.208790       0   0        0      0     1     4       19   1       1   \n",
       "37806  21.634615       0   0        0      0     1     4       16   1       1   \n",
       "37807   8.636364       1   0        0      0     1     4       14   0       1   \n",
       "37808  10.544871       0   0        0      0     1     4       13   0       1   \n",
       "37809  14.903846       1   0        0      0     1     4       14   0       1   \n",
       "\n",
       "       age  \n",
       "0       49  \n",
       "1       28  \n",
       "2       45  \n",
       "3       41  \n",
       "4       54  \n",
       "...    ...  \n",
       "37805   51  \n",
       "37806   44  \n",
       "37807   44  \n",
       "37808   33  \n",
       "37809   31  \n",
       "\n",
       "[37810 rows x 11 columns]"
      ]
     },
     "execution_count": 2,
     "metadata": {},
     "output_type": "execute_result"
    }
   ],
   "source": [
    "data = pd.read_csv('cps99_ps3.csv')"
   ]
  },
  {
   "cell_type": "code",
   "execution_count": 27,
   "metadata": {},
   "outputs": [],
   "source": [
    "ahe = data.ahe.values\n",
    "yrseduc = data.yrseduc.values\n",
    "ahe_mean = ahe.mean()\n",
    "yrseduc_mean = yrseduc.mean()\n",
    "\n",
    "beta1 = sum([yrseduc[i]*(ahe[i] - ahe_mean) for i in range(len(ahe))]) / sum([yrseduc[i]*(yrseduc[i] - yrseduc_mean) for i in range(len(yrseduc))])\n",
    "beta0 = ahe_mean - beta1*yrseduc_mean"
   ]
  },
  {
   "cell_type": "code",
   "execution_count": 98,
   "metadata": {},
   "outputs": [
    {
     "name": "stdout",
     "output_type": "stream",
     "text": [
      "a) Коэффициент при yrseduc: 1.334197490847233.\n",
      "Это означает то, что средний заработок человека растет с каждым годом обучения на 1.334197490847233.\n",
      "Люди с высоким образованием зарабатывают больше денег.\n"
     ]
    }
   ],
   "source": [
    "print(f\"a) Коэффициент при yrseduc: {beta1}.\\nЭто означает то, что средний заработок человека растет с каждым годом обучения на {beta1}.\\nЛюди с высоким образованием зарабатывают больше денег.\")"
   ]
  },
  {
   "cell_type": "code",
   "execution_count": 55,
   "metadata": {},
   "outputs": [
    {
     "name": "stdout",
     "output_type": "stream",
     "text": [
      "b)\n"
     ]
    },
    {
     "data": {
      "text/plain": [
       "<matplotlib.legend.Legend at 0x23e0ac656d0>"
      ]
     },
     "execution_count": 55,
     "metadata": {},
     "output_type": "execute_result"
    },
    {
     "data": {
      "image/png": "[encoded data removed]",
      "text/plain": [
       "<Figure size 1000x1000 with 1 Axes>"
      ]
     },
     "metadata": {},
     "output_type": "display_data"
    }
   ],
   "source": [
    "print(\"b)\")\n",
    "fig = plt.figure(figsize=(10,10))\n",
    "plt.scatter(yrseduc, ahe, np.pi, label=\"sample points\")\n",
    "plt.plot(yrseduc, beta0 + beta1*yrseduc, color='red', label='regression line')\n",
    "plt.ylabel(\"ahe\")\n",
    "plt.xlabel(\"yrseduc\")\n",
    "plt.grid()\n",
    "plt.legend()"
   ]
  },
  {
   "cell_type": "code",
   "execution_count": 99,
   "metadata": {},
   "outputs": [
    {
     "name": "stdout",
     "output_type": "stream",
     "text": [
      "c)\n",
      "Да, коэффициент наклона является статистически отличным от нуля.\n"
     ]
    }
   ],
   "source": [
    "residuals = ahe - (beta0 + beta1*yrseduc)\n",
    "std_residuals = np.std(residuals, ddof=1)\n",
    "t_stat = beta1 / (std_residuals / np.sqrt(np.sum((yrseduc - yrseduc_mean)**2)))\n",
    "p_value = 2*(1 - scp.t.cdf(t_stat, len(yrseduc) - 2))\n",
    "print(\"c)\")\n",
    "if p_value < 0.05: \n",
    "    print(\"Да, коэффициент наклона является статистически отличным от нуля.\")\n",
    "else:\n",
    "    print(\"Нет, коэффициент наклона не является статистически отличным от нуля.\")"
   ]
  },
  {
   "cell_type": "code",
   "execution_count": 100,
   "metadata": {},
   "outputs": [
    {
     "name": "stdout",
     "output_type": "stream",
     "text": [
      "d) 95%-ный доверительный интервал для коэффициента наклона регрессии: [1.304005717445044; 1.364389264249422]\n"
     ]
    }
   ],
   "source": [
    "alpha = 0.05\n",
    "s_error = std_residuals / np.sqrt(np.sum((yrseduc - yrseduc_mean)**2))\n",
    "left = beta1 - scp.t.ppf(1 - alpha/2, df=len(yrseduc) - 2) * s_error\n",
    "right = beta1 + scp.t.ppf(1 - alpha/2, df=len(yrseduc) - 2) * s_error\n",
    "print(f\"d) 95%-ный доверительный интервал для коэффициента наклона регрессии: [{left}; {right}]\")"
   ]
  },
  {
   "cell_type": "code",
   "execution_count": 83,
   "metadata": {},
   "outputs": [
    {
     "name": "stdout",
     "output_type": "stream",
     "text": [
      "e) R^2 регрессии равен 0.1655700163705476.\n",
      "Это значит, что только 16.6% изменений в среднем заработке можно объяснить количеством лет обучения.\n"
     ]
    }
   ],
   "source": [
    "SST = np.sum((ahe - ahe_mean)**2)\n",
    "SSE = np.sum((beta0 + beta1*yrseduc - np.mean(beta0 + beta1*yrseduc))**2)\n",
    "R2 = SSE / SST\n",
    "print(f\"e) R^2 регрессии равен {R2}.\\nЭто значит, что только 16.6% изменений в среднем заработке можно объяснить количеством лет обучения.\")"
   ]
  },
  {
   "cell_type": "code",
   "execution_count": 96,
   "metadata": {},
   "outputs": [
    {
     "name": "stdout",
     "output_type": "stream",
     "text": [
      "f) Корреляция между ahe и yrseduc = 0.40690295694480744.\n",
      "Квадрат корреляции равна R^2 с точностью больше миллиардных: 0.1655700163704278 = 0.1655700163705476\n"
     ]
    }
   ],
   "source": [
    "corr = data.ahe.corr(data.yrseduc)\n",
    "print(f\"f) Корреляция между ahe и yrseduc = {corr}.\\nКвадрат корреляции равна R^2 с точностью больше миллиардных: {corr**2} = {R2}\")"
   ]
  },
  {
   "cell_type": "code",
   "execution_count": 97,
   "metadata": {},
   "outputs": [
    {
     "name": "stdout",
     "output_type": "stream",
     "text": [
      "g) Ошибка регрессии в модели является гетероскедастичной\n"
     ]
    }
   ],
   "source": [
    "print(\"g) Ошибка регрессии в модели является гетероскедастичной\")"
   ]
  }
 ],
 "metadata": {
  "kernelspec": {
   "display_name": "Python 3",
   "language": "python",
   "name": "python3"
  },
  "language_info": {
   "codemirror_mode": {
    "name": "ipython",
    "version": 3
   },
   "file_extension": ".py",
   "mimetype": "text/x-python",
   "name": "python",
   "nbconvert_exporter": "python",
   "pygments_lexer": "ipython3",
   "version": "3.11.0"
  }
 },
 "nbformat": 4,
 "nbformat_minor": 2
}
