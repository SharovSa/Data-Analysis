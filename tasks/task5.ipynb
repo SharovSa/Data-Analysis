{
 "cells": [
  {
   "cell_type": "code",
   "execution_count": 77,
   "metadata": {},
   "outputs": [],
   "source": [
    "import pandas as pd\n",
    "import numpy as np\n",
    "import scipy.stats as sps"
   ]
  },
  {
   "cell_type": "code",
   "execution_count": 78,
   "metadata": {},
   "outputs": [
    {
     "data": {
      "text/html": [
       "<div>\n",
       "<style scoped>\n",
       "    .dataframe tbody tr th:only-of-type {\n",
       "        vertical-align: middle;\n",
       "    }\n",
       "\n",
       "    .dataframe tbody tr th {\n",
       "        vertical-align: top;\n",
       "    }\n",
       "\n",
       "    .dataframe thead th {\n",
       "        text-align: right;\n",
       "    }\n",
       "</style>\n",
       "<table border=\"1\" class=\"dataframe\">\n",
       "  <thead>\n",
       "    <tr style=\"text-align: right;\">\n",
       "      <th></th>\n",
       "      <th>ahe</th>\n",
       "      <th>female</th>\n",
       "      <th>ne</th>\n",
       "      <th>midwest</th>\n",
       "      <th>south</th>\n",
       "      <th>west</th>\n",
       "      <th>race</th>\n",
       "      <th>yrseduc</th>\n",
       "      <th>ba</th>\n",
       "      <th>hsdipl</th>\n",
       "      <th>age</th>\n",
       "    </tr>\n",
       "  </thead>\n",
       "  <tbody>\n",
       "    <tr>\n",
       "      <th>0</th>\n",
       "      <td>10.754048</td>\n",
       "      <td>1</td>\n",
       "      <td>1</td>\n",
       "      <td>0</td>\n",
       "      <td>0</td>\n",
       "      <td>0</td>\n",
       "      <td>1</td>\n",
       "      <td>18</td>\n",
       "      <td>1</td>\n",
       "      <td>1</td>\n",
       "      <td>49</td>\n",
       "    </tr>\n",
       "    <tr>\n",
       "      <th>1</th>\n",
       "      <td>10.341881</td>\n",
       "      <td>0</td>\n",
       "      <td>1</td>\n",
       "      <td>0</td>\n",
       "      <td>0</td>\n",
       "      <td>0</td>\n",
       "      <td>1</td>\n",
       "      <td>16</td>\n",
       "      <td>1</td>\n",
       "      <td>1</td>\n",
       "      <td>28</td>\n",
       "    </tr>\n",
       "    <tr>\n",
       "      <th>2</th>\n",
       "      <td>18.181818</td>\n",
       "      <td>0</td>\n",
       "      <td>1</td>\n",
       "      <td>0</td>\n",
       "      <td>0</td>\n",
       "      <td>0</td>\n",
       "      <td>1</td>\n",
       "      <td>12</td>\n",
       "      <td>0</td>\n",
       "      <td>1</td>\n",
       "      <td>45</td>\n",
       "    </tr>\n",
       "    <tr>\n",
       "      <th>3</th>\n",
       "      <td>20.879122</td>\n",
       "      <td>1</td>\n",
       "      <td>1</td>\n",
       "      <td>0</td>\n",
       "      <td>0</td>\n",
       "      <td>0</td>\n",
       "      <td>1</td>\n",
       "      <td>12</td>\n",
       "      <td>0</td>\n",
       "      <td>1</td>\n",
       "      <td>41</td>\n",
       "    </tr>\n",
       "    <tr>\n",
       "      <th>4</th>\n",
       "      <td>17.948717</td>\n",
       "      <td>0</td>\n",
       "      <td>1</td>\n",
       "      <td>0</td>\n",
       "      <td>0</td>\n",
       "      <td>0</td>\n",
       "      <td>1</td>\n",
       "      <td>18</td>\n",
       "      <td>1</td>\n",
       "      <td>1</td>\n",
       "      <td>54</td>\n",
       "    </tr>\n",
       "    <tr>\n",
       "      <th>...</th>\n",
       "      <td>...</td>\n",
       "      <td>...</td>\n",
       "      <td>...</td>\n",
       "      <td>...</td>\n",
       "      <td>...</td>\n",
       "      <td>...</td>\n",
       "      <td>...</td>\n",
       "      <td>...</td>\n",
       "      <td>...</td>\n",
       "      <td>...</td>\n",
       "      <td>...</td>\n",
       "    </tr>\n",
       "    <tr>\n",
       "      <th>37805</th>\n",
       "      <td>41.208790</td>\n",
       "      <td>0</td>\n",
       "      <td>0</td>\n",
       "      <td>0</td>\n",
       "      <td>0</td>\n",
       "      <td>1</td>\n",
       "      <td>4</td>\n",
       "      <td>19</td>\n",
       "      <td>1</td>\n",
       "      <td>1</td>\n",
       "      <td>51</td>\n",
       "    </tr>\n",
       "    <tr>\n",
       "      <th>37806</th>\n",
       "      <td>21.634615</td>\n",
       "      <td>0</td>\n",
       "      <td>0</td>\n",
       "      <td>0</td>\n",
       "      <td>0</td>\n",
       "      <td>1</td>\n",
       "      <td>4</td>\n",
       "      <td>16</td>\n",
       "      <td>1</td>\n",
       "      <td>1</td>\n",
       "      <td>44</td>\n",
       "    </tr>\n",
       "    <tr>\n",
       "      <th>37807</th>\n",
       "      <td>8.636364</td>\n",
       "      <td>1</td>\n",
       "      <td>0</td>\n",
       "      <td>0</td>\n",
       "      <td>0</td>\n",
       "      <td>1</td>\n",
       "      <td>4</td>\n",
       "      <td>14</td>\n",
       "      <td>0</td>\n",
       "      <td>1</td>\n",
       "      <td>44</td>\n",
       "    </tr>\n",
       "    <tr>\n",
       "      <th>37808</th>\n",
       "      <td>10.544871</td>\n",
       "      <td>0</td>\n",
       "      <td>0</td>\n",
       "      <td>0</td>\n",
       "      <td>0</td>\n",
       "      <td>1</td>\n",
       "      <td>4</td>\n",
       "      <td>13</td>\n",
       "      <td>0</td>\n",
       "      <td>1</td>\n",
       "      <td>33</td>\n",
       "    </tr>\n",
       "    <tr>\n",
       "      <th>37809</th>\n",
       "      <td>14.903846</td>\n",
       "      <td>1</td>\n",
       "      <td>0</td>\n",
       "      <td>0</td>\n",
       "      <td>0</td>\n",
       "      <td>1</td>\n",
       "      <td>4</td>\n",
       "      <td>14</td>\n",
       "      <td>0</td>\n",
       "      <td>1</td>\n",
       "      <td>31</td>\n",
       "    </tr>\n",
       "  </tbody>\n",
       "</table>\n",
       "<p>37810 rows × 11 columns</p>\n",
       "</div>"
      ],
      "text/plain": [
       "             ahe  female  ne  midwest  south  west  race  yrseduc  ba  hsdipl  \\\n",
       "0      10.754048       1   1        0      0     0     1       18   1       1   \n",
       "1      10.341881       0   1        0      0     0     1       16   1       1   \n",
       "2      18.181818       0   1        0      0     0     1       12   0       1   \n",
       "3      20.879122       1   1        0      0     0     1       12   0       1   \n",
       "4      17.948717       0   1        0      0     0     1       18   1       1   \n",
       "...          ...     ...  ..      ...    ...   ...   ...      ...  ..     ...   \n",
       "37805  41.208790       0   0        0      0     1     4       19   1       1   \n",
       "37806  21.634615       0   0        0      0     1     4       16   1       1   \n",
       "37807   8.636364       1   0        0      0     1     4       14   0       1   \n",
       "37808  10.544871       0   0        0      0     1     4       13   0       1   \n",
       "37809  14.903846       1   0        0      0     1     4       14   0       1   \n",
       "\n",
       "       age  \n",
       "0       49  \n",
       "1       28  \n",
       "2       45  \n",
       "3       41  \n",
       "4       54  \n",
       "...    ...  \n",
       "37805   51  \n",
       "37806   44  \n",
       "37807   44  \n",
       "37808   33  \n",
       "37809   31  \n",
       "\n",
       "[37810 rows x 11 columns]"
      ]
     },
     "execution_count": 78,
     "metadata": {},
     "output_type": "execute_result"
    }
   ],
   "source": [
    "data = pd.read_csv('cps99_ps3.csv')\n",
    "data"
   ]
  },
  {
   "cell_type": "code",
   "execution_count": 79,
   "metadata": {},
   "outputs": [
    {
     "name": "stdout",
     "output_type": "stream",
     "text": [
      "a)\n",
      "Коэффициент при yrseduc = 0.08142349709381655, при age = 0.007489681891459749, при female = -0.24409048625868998\n",
      "Можно сделать вывод, что на зарплату значительно влияет пол человека, при этом в среднем женщины зарабатывают меньше мужчин.\n"
     ]
    }
   ],
   "source": [
    "y = np.log(data['ahe'])\n",
    "x = np.array([data.yrseduc, data.age, data.female, data.hsdipl]).T\n",
    "x = np.column_stack((np.ones(x.shape[0]), x))\n",
    "beta_hat = np.linalg.inv(x.T @ x) @ x.T @ y\n",
    "\n",
    "print('a)')\n",
    "print(f\"Коэффициент при yrseduc = {beta_hat[1]}, при age = {beta_hat[2]}, при female = {beta_hat[3]}\")\n",
    "print(\"Можно сделать вывод, что на зарплату значительно влияет пол человека, при этом в среднем женщины зарабатывают меньше мужчин.\")"
   ]
  },
  {
   "cell_type": "code",
   "execution_count": 80,
   "metadata": {},
   "outputs": [
    {
     "name": "stdout",
     "output_type": "stream",
     "text": [
      "b)\n",
      "Среднеквадратическое отклонение равно = 0.46894698536288926.\n",
      "Это значит, что в среднем зарплата отклоняется от среднего значения по выборке на 0.5\n"
     ]
    }
   ],
   "source": [
    "residuals = y - x @ beta_hat\n",
    "rmse = np.sqrt(np.mean(residuals**2))\n",
    "print(\"b)\")\n",
    "print(f'Среднеквадратическое отклонение равно = {rmse}.\\nЭто значит, что в среднем зарплата отклоняется от среднего значения по выборке на 0.5')"
   ]
  },
  {
   "cell_type": "code",
   "execution_count": 81,
   "metadata": {},
   "outputs": [
    {
     "name": "stdout",
     "output_type": "stream",
     "text": [
      "c)\n",
      "95%-ый доверительный интервал: [-0.25366065259532944, -0.2345203199220505]\n"
     ]
    }
   ],
   "source": [
    "sigma2_hat = np.sum(residuals**2)/(x.shape[0] - x.shape[1])\n",
    "cov_matrix = sigma2_hat * np.linalg.inv(x.T @ x)\n",
    "std_error = np.sqrt(np.diag(cov_matrix))\n",
    "alpha = 0.05\n",
    "left = beta_hat[3] - sps.t.ppf(1-alpha/2, df=x.shape[0] - x.shape[1])*std_error[3]\n",
    "right = beta_hat[3] + sps.t.ppf(1-alpha/2, df=x.shape[0] - x.shape[1])*std_error[3]\n",
    "print('c)')\n",
    "print(f'95%-ый доверительный интервал: [{left}, {right}]')"
   ]
  },
  {
   "cell_type": "code",
   "execution_count": 82,
   "metadata": {},
   "outputs": [
    {
     "name": "stdout",
     "output_type": "stream",
     "text": [
      "d)\n",
      "p-value = 0.0\n",
      "Нулевая гипотеза отвергается. Наличие диплома не оказывает значимого эффекта на зарплату.\n"
     ]
    }
   ],
   "source": [
    "# H0: new_beta_hat[4] (эффект получения диплома) = 0\n",
    "# Ha: new_beta_hat[4] != 0\n",
    "\n",
    "effect = beta_hat[4]\n",
    "t_stat = effect / std_error[4]\n",
    "\n",
    "p_value = 2 * (1 - sps.t.cdf(np.abs(t_stat), df=x.shape[0] - x.shape[1]))\n",
    "\n",
    "print('d)')\n",
    "print(f'p-value = {p_value}')\n",
    "if p_value > alpha:\n",
    "    print('Нулевая гипотеза не отвергается. Наличие диплома оказывает значимый эффект на зарплату.')\n",
    "else:\n",
    "    print('Нулевая гипотеза отвергается. Наличие диплома не оказывает значимого эффекта на зарплату.')"
   ]
  },
  {
   "cell_type": "code",
   "execution_count": 83,
   "metadata": {},
   "outputs": [
    {
     "name": "stdout",
     "output_type": "stream",
     "text": [
      "e)\n",
      "V = 0.2898395282796029\n"
     ]
    }
   ],
   "source": [
    "V = (np.array([1, 12, 30, 0, 1]).T) @ beta_hat - (np.array([1, 10, 30, 0, 0]).T) @ beta_hat\n",
    "print('e)')\n",
    "print(f\"V = {V}\")"
   ]
  },
  {
   "cell_type": "code",
   "execution_count": 84,
   "metadata": {},
   "outputs": [
    {
     "name": "stdout",
     "output_type": "stream",
     "text": [
      "f)\n",
      "95%-ый доверительный интервал для V: [0.27267895922735425, 0.3070000973318516]\n"
     ]
    }
   ],
   "source": [
    "# так как V = 2*beta_hat[1] + beta_hat[4] => var_V = 4*V(yrseduc_hat) + V(hsdipl_hat) + 4*cov(yrseduc_hat, hsdipl_hat)\n",
    "var_V = 4*cov_matrix[1][1] + cov_matrix[4][4] + 4*cov_matrix[1][4]\n",
    "std_err_V = np.sqrt(var_V)\n",
    "\n",
    "v_left = V - sps.t.ppf(1-alpha/2, df=x.shape[0] - x.shape[1])*std_err_V\n",
    "v_right = V + sps.t.ppf(1-alpha/2, df=x.shape[0] - x.shape[1])*std_err_V\n",
    "\n",
    "print('f)')\n",
    "print(f'95%-ый доверительный интервал для V: [{v_left}, {v_right}]')"
   ]
  }
 ],
 "metadata": {
  "kernelspec": {
   "display_name": "Python 3",
   "language": "python",
   "name": "python3"
  },
  "language_info": {
   "codemirror_mode": {
    "name": "ipython",
    "version": 3
   },
   "file_extension": ".py",
   "mimetype": "text/x-python",
   "name": "python",
   "nbconvert_exporter": "python",
   "pygments_lexer": "ipython3",
   "version": "3.11.0"
  }
 },
 "nbformat": 4,
 "nbformat_minor": 2
}
